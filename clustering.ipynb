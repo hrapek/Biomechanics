{
 "cells": [
  {
   "cell_type": "code",
   "execution_count": 28,
   "metadata": {},
   "outputs": [],
   "source": [
    "import pandas as pd\n",
    "from sklearn.cluster import KMeans\n",
    "from sklearn.preprocessing import StandardScaler\n",
    "import numpy as np\n",
    "import plotly.express as px"
   ]
  },
  {
   "cell_type": "code",
   "execution_count": 29,
   "metadata": {},
   "outputs": [
    {
     "data": {
      "text/html": [
       "<div>\n",
       "<style scoped>\n",
       "    .dataframe tbody tr th:only-of-type {\n",
       "        vertical-align: middle;\n",
       "    }\n",
       "\n",
       "    .dataframe tbody tr th {\n",
       "        vertical-align: top;\n",
       "    }\n",
       "\n",
       "    .dataframe thead th {\n",
       "        text-align: right;\n",
       "    }\n",
       "</style>\n",
       "<table border=\"1\" class=\"dataframe\">\n",
       "  <thead>\n",
       "    <tr style=\"text-align: right;\">\n",
       "      <th></th>\n",
       "      <th>walking_type</th>\n",
       "      <th>video_id</th>\n",
       "      <th>person_id</th>\n",
       "      <th>camera_type</th>\n",
       "      <th>steps_length</th>\n",
       "      <th>avg_step_length</th>\n",
       "      <th>speed</th>\n",
       "      <th>time</th>\n",
       "      <th>distance</th>\n",
       "      <th>asymmetry</th>\n",
       "    </tr>\n",
       "  </thead>\n",
       "  <tbody>\n",
       "    <tr>\n",
       "      <th>0</th>\n",
       "      <td>abnormal</td>\n",
       "      <td>limping1</td>\n",
       "      <td>0</td>\n",
       "      <td>front_multiple</td>\n",
       "      <td>[0.14770962 0.14714764 0.14685819 0.14727776 0...</td>\n",
       "      <td>0.158174</td>\n",
       "      <td>0.016143</td>\n",
       "      <td>324</td>\n",
       "      <td>5.230202</td>\n",
       "      <td>0.360017</td>\n",
       "    </tr>\n",
       "    <tr>\n",
       "      <th>1</th>\n",
       "      <td>abnormal</td>\n",
       "      <td>limping1</td>\n",
       "      <td>1</td>\n",
       "      <td>front_multiple</td>\n",
       "      <td>[0.2368916  0.15101376 0.15024317 0.15141071 0...</td>\n",
       "      <td>0.161374</td>\n",
       "      <td>0.025900</td>\n",
       "      <td>346</td>\n",
       "      <td>8.961452</td>\n",
       "      <td>0.802118</td>\n",
       "    </tr>\n",
       "    <tr>\n",
       "      <th>2</th>\n",
       "      <td>normal</td>\n",
       "      <td>DTU1</td>\n",
       "      <td>0</td>\n",
       "      <td>front</td>\n",
       "      <td>[0.11692207 0.13675987 0.14435628 0.15955304 0...</td>\n",
       "      <td>0.144130</td>\n",
       "      <td>0.043713</td>\n",
       "      <td>27</td>\n",
       "      <td>1.180249</td>\n",
       "      <td>0.039018</td>\n",
       "    </tr>\n",
       "    <tr>\n",
       "      <th>3</th>\n",
       "      <td>normal</td>\n",
       "      <td>jake</td>\n",
       "      <td>0</td>\n",
       "      <td>side</td>\n",
       "      <td>[0.55222212 0.61456363 0.56650746 0.60724509]</td>\n",
       "      <td>0.585135</td>\n",
       "      <td>0.030833</td>\n",
       "      <td>58</td>\n",
       "      <td>1.788316</td>\n",
       "      <td>0.856048</td>\n",
       "    </tr>\n",
       "    <tr>\n",
       "      <th>4</th>\n",
       "      <td>normal</td>\n",
       "      <td>guy</td>\n",
       "      <td>0</td>\n",
       "      <td>side</td>\n",
       "      <td>[0.43892157 0.64519218 0.62339924 0.5295839 ]</td>\n",
       "      <td>0.559274</td>\n",
       "      <td>0.035964</td>\n",
       "      <td>50</td>\n",
       "      <td>1.798175</td>\n",
       "      <td>0.714935</td>\n",
       "    </tr>\n",
       "    <tr>\n",
       "      <th>5</th>\n",
       "      <td>normal</td>\n",
       "      <td>karolina</td>\n",
       "      <td>0</td>\n",
       "      <td>frontback</td>\n",
       "      <td>[0.12800904 0.07777523 0.10063381 0.09813364 0...</td>\n",
       "      <td>0.112751</td>\n",
       "      <td>0.014958</td>\n",
       "      <td>700</td>\n",
       "      <td>10.470564</td>\n",
       "      <td>-0.023648</td>\n",
       "    </tr>\n",
       "    <tr>\n",
       "      <th>6</th>\n",
       "      <td>abnormal</td>\n",
       "      <td>hemiplegic_gait4</td>\n",
       "      <td>0</td>\n",
       "      <td>front</td>\n",
       "      <td>[0.278922   0.31759438 0.21406927 0.2110939  0...</td>\n",
       "      <td>0.260650</td>\n",
       "      <td>0.023243</td>\n",
       "      <td>459</td>\n",
       "      <td>10.668369</td>\n",
       "      <td>-0.628305</td>\n",
       "    </tr>\n",
       "    <tr>\n",
       "      <th>7</th>\n",
       "      <td>normal</td>\n",
       "      <td>athletic_male</td>\n",
       "      <td>0</td>\n",
       "      <td>front</td>\n",
       "      <td>[0.18562702 0.14532067 0.16222869 0.16312455 0...</td>\n",
       "      <td>0.141665</td>\n",
       "      <td>0.021790</td>\n",
       "      <td>76</td>\n",
       "      <td>1.656012</td>\n",
       "      <td>0.020580</td>\n",
       "    </tr>\n",
       "    <tr>\n",
       "      <th>8</th>\n",
       "      <td>normal</td>\n",
       "      <td>london_man</td>\n",
       "      <td>0</td>\n",
       "      <td>back</td>\n",
       "      <td>[0.12283621 0.15875164 0.11985308 0.04480141 0...</td>\n",
       "      <td>0.103900</td>\n",
       "      <td>0.004953</td>\n",
       "      <td>164</td>\n",
       "      <td>0.812266</td>\n",
       "      <td>0.415574</td>\n",
       "    </tr>\n",
       "    <tr>\n",
       "      <th>9</th>\n",
       "      <td>abnormal</td>\n",
       "      <td>limping_11</td>\n",
       "      <td>0</td>\n",
       "      <td>front_multiple</td>\n",
       "      <td>[0.14770962 0.14714764 0.14685819 0.14727776 0...</td>\n",
       "      <td>0.158174</td>\n",
       "      <td>0.016143</td>\n",
       "      <td>324</td>\n",
       "      <td>5.230202</td>\n",
       "      <td>0.360017</td>\n",
       "    </tr>\n",
       "    <tr>\n",
       "      <th>10</th>\n",
       "      <td>abnormal</td>\n",
       "      <td>limping_11</td>\n",
       "      <td>1</td>\n",
       "      <td>front_multiple</td>\n",
       "      <td>[0.2368916  0.15101376 0.15024317 0.15141071 0...</td>\n",
       "      <td>0.161374</td>\n",
       "      <td>0.025900</td>\n",
       "      <td>346</td>\n",
       "      <td>8.961452</td>\n",
       "      <td>0.802118</td>\n",
       "    </tr>\n",
       "    <tr>\n",
       "      <th>11</th>\n",
       "      <td>normal</td>\n",
       "      <td>gosia</td>\n",
       "      <td>0</td>\n",
       "      <td>back</td>\n",
       "      <td>[0.16144565 0.15040568 0.17102993 0.1755234  0...</td>\n",
       "      <td>0.141557</td>\n",
       "      <td>0.025670</td>\n",
       "      <td>104</td>\n",
       "      <td>2.669689</td>\n",
       "      <td>-0.071390</td>\n",
       "    </tr>\n",
       "    <tr>\n",
       "      <th>12</th>\n",
       "      <td>abnormal</td>\n",
       "      <td>hemiplegic_gait3</td>\n",
       "      <td>0</td>\n",
       "      <td>front</td>\n",
       "      <td>[0.22459552 0.22149166 0.22350705 0.27738675 0...</td>\n",
       "      <td>0.246922</td>\n",
       "      <td>0.019853</td>\n",
       "      <td>225</td>\n",
       "      <td>4.466928</td>\n",
       "      <td>0.156509</td>\n",
       "    </tr>\n",
       "    <tr>\n",
       "      <th>13</th>\n",
       "      <td>normal</td>\n",
       "      <td>athletic_male</td>\n",
       "      <td>0</td>\n",
       "      <td>side</td>\n",
       "      <td>[0.5201098  0.76547247 0.75014812 0.58124989 0...</td>\n",
       "      <td>0.689091</td>\n",
       "      <td>0.088613</td>\n",
       "      <td>103</td>\n",
       "      <td>9.127168</td>\n",
       "      <td>0.701541</td>\n",
       "    </tr>\n",
       "    <tr>\n",
       "      <th>14</th>\n",
       "      <td>normal</td>\n",
       "      <td>gosia</td>\n",
       "      <td>0</td>\n",
       "      <td>side</td>\n",
       "      <td>[0.33645812 0.7675721  0.79512393 0.49717681 0...</td>\n",
       "      <td>0.604786</td>\n",
       "      <td>0.078647</td>\n",
       "      <td>88</td>\n",
       "      <td>6.920980</td>\n",
       "      <td>0.818917</td>\n",
       "    </tr>\n",
       "    <tr>\n",
       "      <th>15</th>\n",
       "      <td>normal</td>\n",
       "      <td>angry_girlfriend</td>\n",
       "      <td>0</td>\n",
       "      <td>front</td>\n",
       "      <td>[0.16371597 0.13821216 0.12211737 0.13814593 0...</td>\n",
       "      <td>0.136156</td>\n",
       "      <td>0.023369</td>\n",
       "      <td>127</td>\n",
       "      <td>2.967875</td>\n",
       "      <td>0.137986</td>\n",
       "    </tr>\n",
       "    <tr>\n",
       "      <th>16</th>\n",
       "      <td>abnormal</td>\n",
       "      <td>antalgic_gait</td>\n",
       "      <td>0</td>\n",
       "      <td>front_multiple</td>\n",
       "      <td>[0.42464031 0.47712233 0.2474841  0.48747359 0...</td>\n",
       "      <td>0.369578</td>\n",
       "      <td>0.058376</td>\n",
       "      <td>151</td>\n",
       "      <td>8.814812</td>\n",
       "      <td>-2.276174</td>\n",
       "    </tr>\n",
       "    <tr>\n",
       "      <th>17</th>\n",
       "      <td>abnormal</td>\n",
       "      <td>hemiplegic_gait</td>\n",
       "      <td>0</td>\n",
       "      <td>side</td>\n",
       "      <td>[0.36718719 0.36383373 0.29843676 0.34600735 0...</td>\n",
       "      <td>0.341517</td>\n",
       "      <td>0.012691</td>\n",
       "      <td>294</td>\n",
       "      <td>3.731018</td>\n",
       "      <td>0.758391</td>\n",
       "    </tr>\n",
       "    <tr>\n",
       "      <th>18</th>\n",
       "      <td>normal</td>\n",
       "      <td>holly</td>\n",
       "      <td>0</td>\n",
       "      <td>front</td>\n",
       "      <td>[0.18325118 0.17459586 0.15374915 0.17124617 0...</td>\n",
       "      <td>0.169374</td>\n",
       "      <td>0.018351</td>\n",
       "      <td>110</td>\n",
       "      <td>2.018617</td>\n",
       "      <td>-0.026607</td>\n",
       "    </tr>\n",
       "    <tr>\n",
       "      <th>19</th>\n",
       "      <td>normal</td>\n",
       "      <td>happy_man</td>\n",
       "      <td>0</td>\n",
       "      <td>side</td>\n",
       "      <td>[0.68499157 0.67263043 0.68393019 0.70223951 0...</td>\n",
       "      <td>0.728754</td>\n",
       "      <td>0.045827</td>\n",
       "      <td>319</td>\n",
       "      <td>14.618850</td>\n",
       "      <td>0.715613</td>\n",
       "    </tr>\n",
       "    <tr>\n",
       "      <th>20</th>\n",
       "      <td>normal</td>\n",
       "      <td>london1</td>\n",
       "      <td>0</td>\n",
       "      <td>back</td>\n",
       "      <td>[0.05738547 0.06029688 0.04557085 0.10915195 0...</td>\n",
       "      <td>0.122007</td>\n",
       "      <td>0.011974</td>\n",
       "      <td>199</td>\n",
       "      <td>2.382758</td>\n",
       "      <td>0.592843</td>\n",
       "    </tr>\n",
       "    <tr>\n",
       "      <th>21</th>\n",
       "      <td>normal</td>\n",
       "      <td>niklas</td>\n",
       "      <td>0</td>\n",
       "      <td>back</td>\n",
       "      <td>[0.15079417 0.16269239 0.1718813  0.14362042 0...</td>\n",
       "      <td>0.156896</td>\n",
       "      <td>0.020460</td>\n",
       "      <td>146</td>\n",
       "      <td>2.987126</td>\n",
       "      <td>-0.064170</td>\n",
       "    </tr>\n",
       "    <tr>\n",
       "      <th>22</th>\n",
       "      <td>abnormal</td>\n",
       "      <td>limping_2</td>\n",
       "      <td>0</td>\n",
       "      <td>front_multiple</td>\n",
       "      <td>[0.15471047 0.15403128 0.15470344 0.15471704 0...</td>\n",
       "      <td>0.158556</td>\n",
       "      <td>0.041831</td>\n",
       "      <td>273</td>\n",
       "      <td>11.419850</td>\n",
       "      <td>0.780874</td>\n",
       "    </tr>\n",
       "    <tr>\n",
       "      <th>23</th>\n",
       "      <td>abnormal</td>\n",
       "      <td>limping_2</td>\n",
       "      <td>1</td>\n",
       "      <td>front_multiple</td>\n",
       "      <td>[0.20474809 0.20832536 0.21283387 0.21184058 0...</td>\n",
       "      <td>0.210052</td>\n",
       "      <td>0.022129</td>\n",
       "      <td>285</td>\n",
       "      <td>6.306869</td>\n",
       "      <td>0.428595</td>\n",
       "    </tr>\n",
       "    <tr>\n",
       "      <th>24</th>\n",
       "      <td>normal</td>\n",
       "      <td>angry_girlfriend</td>\n",
       "      <td>0</td>\n",
       "      <td>side</td>\n",
       "      <td>[0.76687789 0.77130702 0.83048975 0.82338533 0...</td>\n",
       "      <td>0.812373</td>\n",
       "      <td>0.069231</td>\n",
       "      <td>118</td>\n",
       "      <td>8.169222</td>\n",
       "      <td>0.666559</td>\n",
       "    </tr>\n",
       "    <tr>\n",
       "      <th>25</th>\n",
       "      <td>abnormal</td>\n",
       "      <td>limping_1_4</td>\n",
       "      <td>0</td>\n",
       "      <td>front_multiple</td>\n",
       "      <td>[0.24503224 0.2541941  0.25317197 0.25130709 0...</td>\n",
       "      <td>0.254556</td>\n",
       "      <td>0.032079</td>\n",
       "      <td>159</td>\n",
       "      <td>5.100640</td>\n",
       "      <td>0.328741</td>\n",
       "    </tr>\n",
       "    <tr>\n",
       "      <th>26</th>\n",
       "      <td>abnormal</td>\n",
       "      <td>limping_1_4</td>\n",
       "      <td>1</td>\n",
       "      <td>front_multiple</td>\n",
       "      <td>[0.20761506 0.20777892 0.21076471 0.21450106 0...</td>\n",
       "      <td>0.201794</td>\n",
       "      <td>0.035148</td>\n",
       "      <td>218</td>\n",
       "      <td>7.662351</td>\n",
       "      <td>0.466650</td>\n",
       "    </tr>\n",
       "    <tr>\n",
       "      <th>27</th>\n",
       "      <td>abnormal</td>\n",
       "      <td>hemiplegic_gait2</td>\n",
       "      <td>0</td>\n",
       "      <td>side</td>\n",
       "      <td>[0.38140978 0.27030893 0.46299958 0.46247745 0...</td>\n",
       "      <td>0.366635</td>\n",
       "      <td>0.022876</td>\n",
       "      <td>384</td>\n",
       "      <td>8.784454</td>\n",
       "      <td>-1.040597</td>\n",
       "    </tr>\n",
       "    <tr>\n",
       "      <th>28</th>\n",
       "      <td>normal</td>\n",
       "      <td>jake</td>\n",
       "      <td>0</td>\n",
       "      <td>back</td>\n",
       "      <td>[0.15500442 0.16854095 0.14415107 0.1518458  0...</td>\n",
       "      <td>0.152847</td>\n",
       "      <td>0.026344</td>\n",
       "      <td>232</td>\n",
       "      <td>6.111741</td>\n",
       "      <td>-0.096411</td>\n",
       "    </tr>\n",
       "    <tr>\n",
       "      <th>29</th>\n",
       "      <td>normal</td>\n",
       "      <td>DTU1</td>\n",
       "      <td>0</td>\n",
       "      <td>back</td>\n",
       "      <td>[0.12815258 0.08716678 0.10408522 0.13010748 0...</td>\n",
       "      <td>0.122079</td>\n",
       "      <td>0.017717</td>\n",
       "      <td>41</td>\n",
       "      <td>0.726404</td>\n",
       "      <td>0.077369</td>\n",
       "    </tr>\n",
       "    <tr>\n",
       "      <th>30</th>\n",
       "      <td>normal</td>\n",
       "      <td>holly</td>\n",
       "      <td>0</td>\n",
       "      <td>back</td>\n",
       "      <td>[0.16287301 0.15875547 0.15563468 0.15154443 0...</td>\n",
       "      <td>0.153072</td>\n",
       "      <td>0.025434</td>\n",
       "      <td>126</td>\n",
       "      <td>3.204715</td>\n",
       "      <td>-0.021443</td>\n",
       "    </tr>\n",
       "    <tr>\n",
       "      <th>31</th>\n",
       "      <td>normal</td>\n",
       "      <td>jake</td>\n",
       "      <td>0</td>\n",
       "      <td>front</td>\n",
       "      <td>[0.26480444 0.24100303 0.2076399  0.24531075 0...</td>\n",
       "      <td>0.247185</td>\n",
       "      <td>0.015044</td>\n",
       "      <td>196</td>\n",
       "      <td>2.948594</td>\n",
       "      <td>-0.880453</td>\n",
       "    </tr>\n",
       "    <tr>\n",
       "      <th>32</th>\n",
       "      <td>normal</td>\n",
       "      <td>mafalda</td>\n",
       "      <td>0</td>\n",
       "      <td>back</td>\n",
       "      <td>[0.1277186  0.13487859 0.12777461 0.12090605 0...</td>\n",
       "      <td>0.127498</td>\n",
       "      <td>0.023280</td>\n",
       "      <td>115</td>\n",
       "      <td>2.677227</td>\n",
       "      <td>0.011929</td>\n",
       "    </tr>\n",
       "    <tr>\n",
       "      <th>33</th>\n",
       "      <td>abnormal</td>\n",
       "      <td>drunk_woman</td>\n",
       "      <td>0</td>\n",
       "      <td>side_front</td>\n",
       "      <td>[0.48161662 0.48679674 0.48078574 0.49464336 0...</td>\n",
       "      <td>0.430698</td>\n",
       "      <td>0.054385</td>\n",
       "      <td>300</td>\n",
       "      <td>16.315586</td>\n",
       "      <td>-0.086758</td>\n",
       "    </tr>\n",
       "    <tr>\n",
       "      <th>34</th>\n",
       "      <td>abnormal</td>\n",
       "      <td>drunk_woman</td>\n",
       "      <td>1</td>\n",
       "      <td>side_front</td>\n",
       "      <td>[0.37716442 0.39848471 0.40601511 0.42486719 0...</td>\n",
       "      <td>0.231061</td>\n",
       "      <td>0.017084</td>\n",
       "      <td>289</td>\n",
       "      <td>4.937235</td>\n",
       "      <td>0.727672</td>\n",
       "    </tr>\n",
       "    <tr>\n",
       "      <th>35</th>\n",
       "      <td>abnormal</td>\n",
       "      <td>ataxic_gait</td>\n",
       "      <td>0</td>\n",
       "      <td>front</td>\n",
       "      <td>[0.23057863 0.25917214 0.24955159 0.2334775  0...</td>\n",
       "      <td>0.271244</td>\n",
       "      <td>0.028262</td>\n",
       "      <td>155</td>\n",
       "      <td>4.380571</td>\n",
       "      <td>0.046236</td>\n",
       "    </tr>\n",
       "    <tr>\n",
       "      <th>36</th>\n",
       "      <td>normal</td>\n",
       "      <td>DTU4</td>\n",
       "      <td>0</td>\n",
       "      <td>back</td>\n",
       "      <td>[0.12686025 0.1271504  0.11975024 0.18382081 0...</td>\n",
       "      <td>0.140226</td>\n",
       "      <td>0.021313</td>\n",
       "      <td>73</td>\n",
       "      <td>1.555851</td>\n",
       "      <td>0.212248</td>\n",
       "    </tr>\n",
       "    <tr>\n",
       "      <th>37</th>\n",
       "      <td>normal</td>\n",
       "      <td>jake</td>\n",
       "      <td>0</td>\n",
       "      <td>side2</td>\n",
       "      <td>[0.63467017 0.64744169 0.58624032 0.64608791 0...</td>\n",
       "      <td>0.631215</td>\n",
       "      <td>0.038221</td>\n",
       "      <td>99</td>\n",
       "      <td>3.783835</td>\n",
       "      <td>-4.905007</td>\n",
       "    </tr>\n",
       "    <tr>\n",
       "      <th>38</th>\n",
       "      <td>normal</td>\n",
       "      <td>DTU1</td>\n",
       "      <td>0</td>\n",
       "      <td>side</td>\n",
       "      <td>[0.38543671 0.39104003]</td>\n",
       "      <td>0.388238</td>\n",
       "      <td>0.195520</td>\n",
       "      <td>2</td>\n",
       "      <td>0.391040</td>\n",
       "      <td>-10.209111</td>\n",
       "    </tr>\n",
       "    <tr>\n",
       "      <th>39</th>\n",
       "      <td>normal</td>\n",
       "      <td>DTU4</td>\n",
       "      <td>0</td>\n",
       "      <td>side</td>\n",
       "      <td>[0.37035072 0.66133952 0.65028137]</td>\n",
       "      <td>0.560657</td>\n",
       "      <td>0.042310</td>\n",
       "      <td>31</td>\n",
       "      <td>1.311621</td>\n",
       "      <td>0.832935</td>\n",
       "    </tr>\n",
       "    <tr>\n",
       "      <th>40</th>\n",
       "      <td>abnormal</td>\n",
       "      <td>limping_4</td>\n",
       "      <td>0</td>\n",
       "      <td>front_multiple</td>\n",
       "      <td>[0.24503224 0.2541941  0.25317197 0.25130709 0...</td>\n",
       "      <td>0.254556</td>\n",
       "      <td>0.032079</td>\n",
       "      <td>159</td>\n",
       "      <td>5.100640</td>\n",
       "      <td>0.328741</td>\n",
       "    </tr>\n",
       "    <tr>\n",
       "      <th>41</th>\n",
       "      <td>abnormal</td>\n",
       "      <td>limping_4</td>\n",
       "      <td>1</td>\n",
       "      <td>front_multiple</td>\n",
       "      <td>[0.20761506 0.20777892 0.21076471 0.21450106 0...</td>\n",
       "      <td>0.201794</td>\n",
       "      <td>0.035148</td>\n",
       "      <td>218</td>\n",
       "      <td>7.662351</td>\n",
       "      <td>0.466650</td>\n",
       "    </tr>\n",
       "    <tr>\n",
       "      <th>42</th>\n",
       "      <td>normal</td>\n",
       "      <td>girl</td>\n",
       "      <td>0</td>\n",
       "      <td>side</td>\n",
       "      <td>[0.64654259 0.7868343  0.7828882  0.76764268 0...</td>\n",
       "      <td>0.745854</td>\n",
       "      <td>0.048932</td>\n",
       "      <td>63</td>\n",
       "      <td>3.082729</td>\n",
       "      <td>0.757836</td>\n",
       "    </tr>\n",
       "    <tr>\n",
       "      <th>43</th>\n",
       "      <td>abnormal</td>\n",
       "      <td>cane1</td>\n",
       "      <td>0</td>\n",
       "      <td>front_multiple</td>\n",
       "      <td>[0.19148023 0.19834063 0.19872919 0.2133614  0...</td>\n",
       "      <td>0.191362</td>\n",
       "      <td>0.012296</td>\n",
       "      <td>249</td>\n",
       "      <td>3.061676</td>\n",
       "      <td>0.399191</td>\n",
       "    </tr>\n",
       "    <tr>\n",
       "      <th>44</th>\n",
       "      <td>abnormal</td>\n",
       "      <td>cane1</td>\n",
       "      <td>1</td>\n",
       "      <td>front_multiple</td>\n",
       "      <td>[0.15113105 0.15187384 0.15149523 0.15123429 0...</td>\n",
       "      <td>0.160509</td>\n",
       "      <td>0.022703</td>\n",
       "      <td>262</td>\n",
       "      <td>5.948216</td>\n",
       "      <td>0.764414</td>\n",
       "    </tr>\n",
       "  </tbody>\n",
       "</table>\n",
       "</div>"
      ],
      "text/plain": [
       "   walking_type          video_id  person_id     camera_type  \\\n",
       "0      abnormal          limping1          0  front_multiple   \n",
       "1      abnormal          limping1          1  front_multiple   \n",
       "2        normal              DTU1          0           front   \n",
       "3        normal              jake          0            side   \n",
       "4        normal               guy          0            side   \n",
       "5        normal          karolina          0       frontback   \n",
       "6      abnormal  hemiplegic_gait4          0           front   \n",
       "7        normal     athletic_male          0           front   \n",
       "8        normal        london_man          0            back   \n",
       "9      abnormal        limping_11          0  front_multiple   \n",
       "10     abnormal        limping_11          1  front_multiple   \n",
       "11       normal             gosia          0            back   \n",
       "12     abnormal  hemiplegic_gait3          0           front   \n",
       "13       normal     athletic_male          0            side   \n",
       "14       normal             gosia          0            side   \n",
       "15       normal  angry_girlfriend          0           front   \n",
       "16     abnormal     antalgic_gait          0  front_multiple   \n",
       "17     abnormal   hemiplegic_gait          0            side   \n",
       "18       normal             holly          0           front   \n",
       "19       normal         happy_man          0            side   \n",
       "20       normal           london1          0            back   \n",
       "21       normal            niklas          0            back   \n",
       "22     abnormal         limping_2          0  front_multiple   \n",
       "23     abnormal         limping_2          1  front_multiple   \n",
       "24       normal  angry_girlfriend          0            side   \n",
       "25     abnormal       limping_1_4          0  front_multiple   \n",
       "26     abnormal       limping_1_4          1  front_multiple   \n",
       "27     abnormal  hemiplegic_gait2          0            side   \n",
       "28       normal              jake          0            back   \n",
       "29       normal              DTU1          0            back   \n",
       "30       normal             holly          0            back   \n",
       "31       normal              jake          0           front   \n",
       "32       normal           mafalda          0            back   \n",
       "33     abnormal       drunk_woman          0      side_front   \n",
       "34     abnormal       drunk_woman          1      side_front   \n",
       "35     abnormal       ataxic_gait          0           front   \n",
       "36       normal              DTU4          0            back   \n",
       "37       normal              jake          0           side2   \n",
       "38       normal              DTU1          0            side   \n",
       "39       normal              DTU4          0            side   \n",
       "40     abnormal         limping_4          0  front_multiple   \n",
       "41     abnormal         limping_4          1  front_multiple   \n",
       "42       normal              girl          0            side   \n",
       "43     abnormal             cane1          0  front_multiple   \n",
       "44     abnormal             cane1          1  front_multiple   \n",
       "\n",
       "                                         steps_length  avg_step_length  \\\n",
       "0   [0.14770962 0.14714764 0.14685819 0.14727776 0...         0.158174   \n",
       "1   [0.2368916  0.15101376 0.15024317 0.15141071 0...         0.161374   \n",
       "2   [0.11692207 0.13675987 0.14435628 0.15955304 0...         0.144130   \n",
       "3       [0.55222212 0.61456363 0.56650746 0.60724509]         0.585135   \n",
       "4       [0.43892157 0.64519218 0.62339924 0.5295839 ]         0.559274   \n",
       "5   [0.12800904 0.07777523 0.10063381 0.09813364 0...         0.112751   \n",
       "6   [0.278922   0.31759438 0.21406927 0.2110939  0...         0.260650   \n",
       "7   [0.18562702 0.14532067 0.16222869 0.16312455 0...         0.141665   \n",
       "8   [0.12283621 0.15875164 0.11985308 0.04480141 0...         0.103900   \n",
       "9   [0.14770962 0.14714764 0.14685819 0.14727776 0...         0.158174   \n",
       "10  [0.2368916  0.15101376 0.15024317 0.15141071 0...         0.161374   \n",
       "11  [0.16144565 0.15040568 0.17102993 0.1755234  0...         0.141557   \n",
       "12  [0.22459552 0.22149166 0.22350705 0.27738675 0...         0.246922   \n",
       "13  [0.5201098  0.76547247 0.75014812 0.58124989 0...         0.689091   \n",
       "14  [0.33645812 0.7675721  0.79512393 0.49717681 0...         0.604786   \n",
       "15  [0.16371597 0.13821216 0.12211737 0.13814593 0...         0.136156   \n",
       "16  [0.42464031 0.47712233 0.2474841  0.48747359 0...         0.369578   \n",
       "17  [0.36718719 0.36383373 0.29843676 0.34600735 0...         0.341517   \n",
       "18  [0.18325118 0.17459586 0.15374915 0.17124617 0...         0.169374   \n",
       "19  [0.68499157 0.67263043 0.68393019 0.70223951 0...         0.728754   \n",
       "20  [0.05738547 0.06029688 0.04557085 0.10915195 0...         0.122007   \n",
       "21  [0.15079417 0.16269239 0.1718813  0.14362042 0...         0.156896   \n",
       "22  [0.15471047 0.15403128 0.15470344 0.15471704 0...         0.158556   \n",
       "23  [0.20474809 0.20832536 0.21283387 0.21184058 0...         0.210052   \n",
       "24  [0.76687789 0.77130702 0.83048975 0.82338533 0...         0.812373   \n",
       "25  [0.24503224 0.2541941  0.25317197 0.25130709 0...         0.254556   \n",
       "26  [0.20761506 0.20777892 0.21076471 0.21450106 0...         0.201794   \n",
       "27  [0.38140978 0.27030893 0.46299958 0.46247745 0...         0.366635   \n",
       "28  [0.15500442 0.16854095 0.14415107 0.1518458  0...         0.152847   \n",
       "29  [0.12815258 0.08716678 0.10408522 0.13010748 0...         0.122079   \n",
       "30  [0.16287301 0.15875547 0.15563468 0.15154443 0...         0.153072   \n",
       "31  [0.26480444 0.24100303 0.2076399  0.24531075 0...         0.247185   \n",
       "32  [0.1277186  0.13487859 0.12777461 0.12090605 0...         0.127498   \n",
       "33  [0.48161662 0.48679674 0.48078574 0.49464336 0...         0.430698   \n",
       "34  [0.37716442 0.39848471 0.40601511 0.42486719 0...         0.231061   \n",
       "35  [0.23057863 0.25917214 0.24955159 0.2334775  0...         0.271244   \n",
       "36  [0.12686025 0.1271504  0.11975024 0.18382081 0...         0.140226   \n",
       "37  [0.63467017 0.64744169 0.58624032 0.64608791 0...         0.631215   \n",
       "38                            [0.38543671 0.39104003]         0.388238   \n",
       "39                 [0.37035072 0.66133952 0.65028137]         0.560657   \n",
       "40  [0.24503224 0.2541941  0.25317197 0.25130709 0...         0.254556   \n",
       "41  [0.20761506 0.20777892 0.21076471 0.21450106 0...         0.201794   \n",
       "42  [0.64654259 0.7868343  0.7828882  0.76764268 0...         0.745854   \n",
       "43  [0.19148023 0.19834063 0.19872919 0.2133614  0...         0.191362   \n",
       "44  [0.15113105 0.15187384 0.15149523 0.15123429 0...         0.160509   \n",
       "\n",
       "       speed  time   distance  asymmetry  \n",
       "0   0.016143   324   5.230202   0.360017  \n",
       "1   0.025900   346   8.961452   0.802118  \n",
       "2   0.043713    27   1.180249   0.039018  \n",
       "3   0.030833    58   1.788316   0.856048  \n",
       "4   0.035964    50   1.798175   0.714935  \n",
       "5   0.014958   700  10.470564  -0.023648  \n",
       "6   0.023243   459  10.668369  -0.628305  \n",
       "7   0.021790    76   1.656012   0.020580  \n",
       "8   0.004953   164   0.812266   0.415574  \n",
       "9   0.016143   324   5.230202   0.360017  \n",
       "10  0.025900   346   8.961452   0.802118  \n",
       "11  0.025670   104   2.669689  -0.071390  \n",
       "12  0.019853   225   4.466928   0.156509  \n",
       "13  0.088613   103   9.127168   0.701541  \n",
       "14  0.078647    88   6.920980   0.818917  \n",
       "15  0.023369   127   2.967875   0.137986  \n",
       "16  0.058376   151   8.814812  -2.276174  \n",
       "17  0.012691   294   3.731018   0.758391  \n",
       "18  0.018351   110   2.018617  -0.026607  \n",
       "19  0.045827   319  14.618850   0.715613  \n",
       "20  0.011974   199   2.382758   0.592843  \n",
       "21  0.020460   146   2.987126  -0.064170  \n",
       "22  0.041831   273  11.419850   0.780874  \n",
       "23  0.022129   285   6.306869   0.428595  \n",
       "24  0.069231   118   8.169222   0.666559  \n",
       "25  0.032079   159   5.100640   0.328741  \n",
       "26  0.035148   218   7.662351   0.466650  \n",
       "27  0.022876   384   8.784454  -1.040597  \n",
       "28  0.026344   232   6.111741  -0.096411  \n",
       "29  0.017717    41   0.726404   0.077369  \n",
       "30  0.025434   126   3.204715  -0.021443  \n",
       "31  0.015044   196   2.948594  -0.880453  \n",
       "32  0.023280   115   2.677227   0.011929  \n",
       "33  0.054385   300  16.315586  -0.086758  \n",
       "34  0.017084   289   4.937235   0.727672  \n",
       "35  0.028262   155   4.380571   0.046236  \n",
       "36  0.021313    73   1.555851   0.212248  \n",
       "37  0.038221    99   3.783835  -4.905007  \n",
       "38  0.195520     2   0.391040 -10.209111  \n",
       "39  0.042310    31   1.311621   0.832935  \n",
       "40  0.032079   159   5.100640   0.328741  \n",
       "41  0.035148   218   7.662351   0.466650  \n",
       "42  0.048932    63   3.082729   0.757836  \n",
       "43  0.012296   249   3.061676   0.399191  \n",
       "44  0.022703   262   5.948216   0.764414  "
      ]
     },
     "execution_count": 29,
     "metadata": {},
     "output_type": "execute_result"
    }
   ],
   "source": [
    "biometrics_df = df = pd.read_csv('biometrics_data.csv', delimiter=';')\n",
    "biometrics_df"
   ]
  },
  {
   "cell_type": "code",
   "execution_count": 30,
   "metadata": {},
   "outputs": [
    {
     "name": "stderr",
     "output_type": "stream",
     "text": [
      "/tmp/ipykernel_82398/2498395683.py:15: SettingWithCopyWarning:\n",
      "\n",
      "\n",
      "A value is trying to be set on a copy of a slice from a DataFrame\n",
      "\n",
      "See the caveats in the documentation: https://pandas.pydata.org/pandas-docs/stable/user_guide/indexing.html#returning-a-view-versus-a-copy\n",
      "\n"
     ]
    }
   ],
   "source": [
    "# Somehow the steps_length column is a string of a list of floats, so we need to convert it to a list of floats\n",
    "biometrics_df[\"steps_length\"] = biometrics_df[\"steps_length\"].apply(\n",
    "    lambda x: np.fromstring(x[1:-1], sep=\" \")\n",
    ")\n",
    "\n",
    "# Rename side by side video\n",
    "biometrics_df.loc[(biometrics_df['video_id'] == 'drunk_woman') & (biometrics_df['person_id'] == 0), 'camera_type'] = 'side'\n",
    "biometrics_df.loc[(biometrics_df['video_id'] == 'drunk_woman') & (biometrics_df['person_id'] == 1), 'camera_type'] = 'front'\n",
    "\n",
    "# Remove outlier\n",
    "biometrics_df = biometrics_df[ (biometrics_df['video_id'] != 'DTU1') & (biometrics_df['asymmetry'] > -10.0)]\n",
    "\n",
    "# Rename labels\n",
    "replace = {\"side2\": \"side\", \"front_multiple\": \"front\", \"back\": \"front\", 'frontback': 'front'}\n",
    "biometrics_df[\"camera_type\"].replace(replace, inplace=True)"
   ]
  },
  {
   "cell_type": "code",
   "execution_count": 31,
   "metadata": {},
   "outputs": [
    {
     "data": {
      "text/html": [
       "<div>\n",
       "<style scoped>\n",
       "    .dataframe tbody tr th:only-of-type {\n",
       "        vertical-align: middle;\n",
       "    }\n",
       "\n",
       "    .dataframe tbody tr th {\n",
       "        vertical-align: top;\n",
       "    }\n",
       "\n",
       "    .dataframe thead th {\n",
       "        text-align: right;\n",
       "    }\n",
       "</style>\n",
       "<table border=\"1\" class=\"dataframe\">\n",
       "  <thead>\n",
       "    <tr style=\"text-align: right;\">\n",
       "      <th></th>\n",
       "      <th>walking_type</th>\n",
       "      <th>video_id</th>\n",
       "      <th>person_id</th>\n",
       "      <th>camera_type</th>\n",
       "      <th>steps_length</th>\n",
       "      <th>avg_step_length</th>\n",
       "      <th>speed</th>\n",
       "      <th>time</th>\n",
       "      <th>distance</th>\n",
       "      <th>asymmetry</th>\n",
       "    </tr>\n",
       "  </thead>\n",
       "  <tbody>\n",
       "    <tr>\n",
       "      <th>0</th>\n",
       "      <td>abnormal</td>\n",
       "      <td>limping1</td>\n",
       "      <td>0</td>\n",
       "      <td>front</td>\n",
       "      <td>[0.14770962, 0.14714764, 0.14685819, 0.1472777...</td>\n",
       "      <td>0.158174</td>\n",
       "      <td>0.016143</td>\n",
       "      <td>324</td>\n",
       "      <td>5.230202</td>\n",
       "      <td>0.360017</td>\n",
       "    </tr>\n",
       "    <tr>\n",
       "      <th>1</th>\n",
       "      <td>abnormal</td>\n",
       "      <td>limping1</td>\n",
       "      <td>1</td>\n",
       "      <td>front</td>\n",
       "      <td>[0.2368916, 0.15101376, 0.15024317, 0.15141071...</td>\n",
       "      <td>0.161374</td>\n",
       "      <td>0.025900</td>\n",
       "      <td>346</td>\n",
       "      <td>8.961452</td>\n",
       "      <td>0.802118</td>\n",
       "    </tr>\n",
       "    <tr>\n",
       "      <th>3</th>\n",
       "      <td>normal</td>\n",
       "      <td>jake</td>\n",
       "      <td>0</td>\n",
       "      <td>side</td>\n",
       "      <td>[0.55222212, 0.61456363, 0.56650746, 0.60724509]</td>\n",
       "      <td>0.585135</td>\n",
       "      <td>0.030833</td>\n",
       "      <td>58</td>\n",
       "      <td>1.788316</td>\n",
       "      <td>0.856048</td>\n",
       "    </tr>\n",
       "    <tr>\n",
       "      <th>4</th>\n",
       "      <td>normal</td>\n",
       "      <td>guy</td>\n",
       "      <td>0</td>\n",
       "      <td>side</td>\n",
       "      <td>[0.43892157, 0.64519218, 0.62339924, 0.5295839]</td>\n",
       "      <td>0.559274</td>\n",
       "      <td>0.035964</td>\n",
       "      <td>50</td>\n",
       "      <td>1.798175</td>\n",
       "      <td>0.714935</td>\n",
       "    </tr>\n",
       "    <tr>\n",
       "      <th>5</th>\n",
       "      <td>normal</td>\n",
       "      <td>karolina</td>\n",
       "      <td>0</td>\n",
       "      <td>front</td>\n",
       "      <td>[0.12800904, 0.07777523, 0.10063381, 0.0981336...</td>\n",
       "      <td>0.112751</td>\n",
       "      <td>0.014958</td>\n",
       "      <td>700</td>\n",
       "      <td>10.470564</td>\n",
       "      <td>-0.023648</td>\n",
       "    </tr>\n",
       "    <tr>\n",
       "      <th>6</th>\n",
       "      <td>abnormal</td>\n",
       "      <td>hemiplegic_gait4</td>\n",
       "      <td>0</td>\n",
       "      <td>front</td>\n",
       "      <td>[0.278922, 0.31759438, 0.21406927, 0.2110939, ...</td>\n",
       "      <td>0.260650</td>\n",
       "      <td>0.023243</td>\n",
       "      <td>459</td>\n",
       "      <td>10.668369</td>\n",
       "      <td>-0.628305</td>\n",
       "    </tr>\n",
       "    <tr>\n",
       "      <th>7</th>\n",
       "      <td>normal</td>\n",
       "      <td>athletic_male</td>\n",
       "      <td>0</td>\n",
       "      <td>front</td>\n",
       "      <td>[0.18562702, 0.14532067, 0.16222869, 0.1631245...</td>\n",
       "      <td>0.141665</td>\n",
       "      <td>0.021790</td>\n",
       "      <td>76</td>\n",
       "      <td>1.656012</td>\n",
       "      <td>0.020580</td>\n",
       "    </tr>\n",
       "    <tr>\n",
       "      <th>8</th>\n",
       "      <td>normal</td>\n",
       "      <td>london_man</td>\n",
       "      <td>0</td>\n",
       "      <td>front</td>\n",
       "      <td>[0.12283621, 0.15875164, 0.11985308, 0.0448014...</td>\n",
       "      <td>0.103900</td>\n",
       "      <td>0.004953</td>\n",
       "      <td>164</td>\n",
       "      <td>0.812266</td>\n",
       "      <td>0.415574</td>\n",
       "    </tr>\n",
       "    <tr>\n",
       "      <th>9</th>\n",
       "      <td>abnormal</td>\n",
       "      <td>limping_11</td>\n",
       "      <td>0</td>\n",
       "      <td>front</td>\n",
       "      <td>[0.14770962, 0.14714764, 0.14685819, 0.1472777...</td>\n",
       "      <td>0.158174</td>\n",
       "      <td>0.016143</td>\n",
       "      <td>324</td>\n",
       "      <td>5.230202</td>\n",
       "      <td>0.360017</td>\n",
       "    </tr>\n",
       "    <tr>\n",
       "      <th>10</th>\n",
       "      <td>abnormal</td>\n",
       "      <td>limping_11</td>\n",
       "      <td>1</td>\n",
       "      <td>front</td>\n",
       "      <td>[0.2368916, 0.15101376, 0.15024317, 0.15141071...</td>\n",
       "      <td>0.161374</td>\n",
       "      <td>0.025900</td>\n",
       "      <td>346</td>\n",
       "      <td>8.961452</td>\n",
       "      <td>0.802118</td>\n",
       "    </tr>\n",
       "    <tr>\n",
       "      <th>11</th>\n",
       "      <td>normal</td>\n",
       "      <td>gosia</td>\n",
       "      <td>0</td>\n",
       "      <td>front</td>\n",
       "      <td>[0.16144565, 0.15040568, 0.17102993, 0.1755234...</td>\n",
       "      <td>0.141557</td>\n",
       "      <td>0.025670</td>\n",
       "      <td>104</td>\n",
       "      <td>2.669689</td>\n",
       "      <td>-0.071390</td>\n",
       "    </tr>\n",
       "    <tr>\n",
       "      <th>12</th>\n",
       "      <td>abnormal</td>\n",
       "      <td>hemiplegic_gait3</td>\n",
       "      <td>0</td>\n",
       "      <td>front</td>\n",
       "      <td>[0.22459552, 0.22149166, 0.22350705, 0.2773867...</td>\n",
       "      <td>0.246922</td>\n",
       "      <td>0.019853</td>\n",
       "      <td>225</td>\n",
       "      <td>4.466928</td>\n",
       "      <td>0.156509</td>\n",
       "    </tr>\n",
       "    <tr>\n",
       "      <th>13</th>\n",
       "      <td>normal</td>\n",
       "      <td>athletic_male</td>\n",
       "      <td>0</td>\n",
       "      <td>side</td>\n",
       "      <td>[0.5201098, 0.76547247, 0.75014812, 0.58124989...</td>\n",
       "      <td>0.689091</td>\n",
       "      <td>0.088613</td>\n",
       "      <td>103</td>\n",
       "      <td>9.127168</td>\n",
       "      <td>0.701541</td>\n",
       "    </tr>\n",
       "    <tr>\n",
       "      <th>14</th>\n",
       "      <td>normal</td>\n",
       "      <td>gosia</td>\n",
       "      <td>0</td>\n",
       "      <td>side</td>\n",
       "      <td>[0.33645812, 0.7675721, 0.79512393, 0.49717681...</td>\n",
       "      <td>0.604786</td>\n",
       "      <td>0.078647</td>\n",
       "      <td>88</td>\n",
       "      <td>6.920980</td>\n",
       "      <td>0.818917</td>\n",
       "    </tr>\n",
       "    <tr>\n",
       "      <th>15</th>\n",
       "      <td>normal</td>\n",
       "      <td>angry_girlfriend</td>\n",
       "      <td>0</td>\n",
       "      <td>front</td>\n",
       "      <td>[0.16371597, 0.13821216, 0.12211737, 0.1381459...</td>\n",
       "      <td>0.136156</td>\n",
       "      <td>0.023369</td>\n",
       "      <td>127</td>\n",
       "      <td>2.967875</td>\n",
       "      <td>0.137986</td>\n",
       "    </tr>\n",
       "    <tr>\n",
       "      <th>16</th>\n",
       "      <td>abnormal</td>\n",
       "      <td>antalgic_gait</td>\n",
       "      <td>0</td>\n",
       "      <td>front</td>\n",
       "      <td>[0.42464031, 0.47712233, 0.2474841, 0.48747359...</td>\n",
       "      <td>0.369578</td>\n",
       "      <td>0.058376</td>\n",
       "      <td>151</td>\n",
       "      <td>8.814812</td>\n",
       "      <td>-2.276174</td>\n",
       "    </tr>\n",
       "    <tr>\n",
       "      <th>17</th>\n",
       "      <td>abnormal</td>\n",
       "      <td>hemiplegic_gait</td>\n",
       "      <td>0</td>\n",
       "      <td>side</td>\n",
       "      <td>[0.36718719, 0.36383373, 0.29843676, 0.3460073...</td>\n",
       "      <td>0.341517</td>\n",
       "      <td>0.012691</td>\n",
       "      <td>294</td>\n",
       "      <td>3.731018</td>\n",
       "      <td>0.758391</td>\n",
       "    </tr>\n",
       "    <tr>\n",
       "      <th>18</th>\n",
       "      <td>normal</td>\n",
       "      <td>holly</td>\n",
       "      <td>0</td>\n",
       "      <td>front</td>\n",
       "      <td>[0.18325118, 0.17459586, 0.15374915, 0.1712461...</td>\n",
       "      <td>0.169374</td>\n",
       "      <td>0.018351</td>\n",
       "      <td>110</td>\n",
       "      <td>2.018617</td>\n",
       "      <td>-0.026607</td>\n",
       "    </tr>\n",
       "    <tr>\n",
       "      <th>19</th>\n",
       "      <td>normal</td>\n",
       "      <td>happy_man</td>\n",
       "      <td>0</td>\n",
       "      <td>side</td>\n",
       "      <td>[0.68499157, 0.67263043, 0.68393019, 0.7022395...</td>\n",
       "      <td>0.728754</td>\n",
       "      <td>0.045827</td>\n",
       "      <td>319</td>\n",
       "      <td>14.618850</td>\n",
       "      <td>0.715613</td>\n",
       "    </tr>\n",
       "    <tr>\n",
       "      <th>20</th>\n",
       "      <td>normal</td>\n",
       "      <td>london1</td>\n",
       "      <td>0</td>\n",
       "      <td>front</td>\n",
       "      <td>[0.05738547, 0.06029688, 0.04557085, 0.1091519...</td>\n",
       "      <td>0.122007</td>\n",
       "      <td>0.011974</td>\n",
       "      <td>199</td>\n",
       "      <td>2.382758</td>\n",
       "      <td>0.592843</td>\n",
       "    </tr>\n",
       "    <tr>\n",
       "      <th>21</th>\n",
       "      <td>normal</td>\n",
       "      <td>niklas</td>\n",
       "      <td>0</td>\n",
       "      <td>front</td>\n",
       "      <td>[0.15079417, 0.16269239, 0.1718813, 0.14362042...</td>\n",
       "      <td>0.156896</td>\n",
       "      <td>0.020460</td>\n",
       "      <td>146</td>\n",
       "      <td>2.987126</td>\n",
       "      <td>-0.064170</td>\n",
       "    </tr>\n",
       "    <tr>\n",
       "      <th>22</th>\n",
       "      <td>abnormal</td>\n",
       "      <td>limping_2</td>\n",
       "      <td>0</td>\n",
       "      <td>front</td>\n",
       "      <td>[0.15471047, 0.15403128, 0.15470344, 0.1547170...</td>\n",
       "      <td>0.158556</td>\n",
       "      <td>0.041831</td>\n",
       "      <td>273</td>\n",
       "      <td>11.419850</td>\n",
       "      <td>0.780874</td>\n",
       "    </tr>\n",
       "    <tr>\n",
       "      <th>23</th>\n",
       "      <td>abnormal</td>\n",
       "      <td>limping_2</td>\n",
       "      <td>1</td>\n",
       "      <td>front</td>\n",
       "      <td>[0.20474809, 0.20832536, 0.21283387, 0.2118405...</td>\n",
       "      <td>0.210052</td>\n",
       "      <td>0.022129</td>\n",
       "      <td>285</td>\n",
       "      <td>6.306869</td>\n",
       "      <td>0.428595</td>\n",
       "    </tr>\n",
       "    <tr>\n",
       "      <th>24</th>\n",
       "      <td>normal</td>\n",
       "      <td>angry_girlfriend</td>\n",
       "      <td>0</td>\n",
       "      <td>side</td>\n",
       "      <td>[0.76687789, 0.77130702, 0.83048975, 0.8233853...</td>\n",
       "      <td>0.812373</td>\n",
       "      <td>0.069231</td>\n",
       "      <td>118</td>\n",
       "      <td>8.169222</td>\n",
       "      <td>0.666559</td>\n",
       "    </tr>\n",
       "    <tr>\n",
       "      <th>25</th>\n",
       "      <td>abnormal</td>\n",
       "      <td>limping_1_4</td>\n",
       "      <td>0</td>\n",
       "      <td>front</td>\n",
       "      <td>[0.24503224, 0.2541941, 0.25317197, 0.25130709...</td>\n",
       "      <td>0.254556</td>\n",
       "      <td>0.032079</td>\n",
       "      <td>159</td>\n",
       "      <td>5.100640</td>\n",
       "      <td>0.328741</td>\n",
       "    </tr>\n",
       "    <tr>\n",
       "      <th>26</th>\n",
       "      <td>abnormal</td>\n",
       "      <td>limping_1_4</td>\n",
       "      <td>1</td>\n",
       "      <td>front</td>\n",
       "      <td>[0.20761506, 0.20777892, 0.21076471, 0.2145010...</td>\n",
       "      <td>0.201794</td>\n",
       "      <td>0.035148</td>\n",
       "      <td>218</td>\n",
       "      <td>7.662351</td>\n",
       "      <td>0.466650</td>\n",
       "    </tr>\n",
       "    <tr>\n",
       "      <th>27</th>\n",
       "      <td>abnormal</td>\n",
       "      <td>hemiplegic_gait2</td>\n",
       "      <td>0</td>\n",
       "      <td>side</td>\n",
       "      <td>[0.38140978, 0.27030893, 0.46299958, 0.4624774...</td>\n",
       "      <td>0.366635</td>\n",
       "      <td>0.022876</td>\n",
       "      <td>384</td>\n",
       "      <td>8.784454</td>\n",
       "      <td>-1.040597</td>\n",
       "    </tr>\n",
       "    <tr>\n",
       "      <th>28</th>\n",
       "      <td>normal</td>\n",
       "      <td>jake</td>\n",
       "      <td>0</td>\n",
       "      <td>front</td>\n",
       "      <td>[0.15500442, 0.16854095, 0.14415107, 0.1518458...</td>\n",
       "      <td>0.152847</td>\n",
       "      <td>0.026344</td>\n",
       "      <td>232</td>\n",
       "      <td>6.111741</td>\n",
       "      <td>-0.096411</td>\n",
       "    </tr>\n",
       "    <tr>\n",
       "      <th>30</th>\n",
       "      <td>normal</td>\n",
       "      <td>holly</td>\n",
       "      <td>0</td>\n",
       "      <td>front</td>\n",
       "      <td>[0.16287301, 0.15875547, 0.15563468, 0.1515444...</td>\n",
       "      <td>0.153072</td>\n",
       "      <td>0.025434</td>\n",
       "      <td>126</td>\n",
       "      <td>3.204715</td>\n",
       "      <td>-0.021443</td>\n",
       "    </tr>\n",
       "    <tr>\n",
       "      <th>31</th>\n",
       "      <td>normal</td>\n",
       "      <td>jake</td>\n",
       "      <td>0</td>\n",
       "      <td>front</td>\n",
       "      <td>[0.26480444, 0.24100303, 0.2076399, 0.24531075...</td>\n",
       "      <td>0.247185</td>\n",
       "      <td>0.015044</td>\n",
       "      <td>196</td>\n",
       "      <td>2.948594</td>\n",
       "      <td>-0.880453</td>\n",
       "    </tr>\n",
       "    <tr>\n",
       "      <th>32</th>\n",
       "      <td>normal</td>\n",
       "      <td>mafalda</td>\n",
       "      <td>0</td>\n",
       "      <td>front</td>\n",
       "      <td>[0.1277186, 0.13487859, 0.12777461, 0.12090605...</td>\n",
       "      <td>0.127498</td>\n",
       "      <td>0.023280</td>\n",
       "      <td>115</td>\n",
       "      <td>2.677227</td>\n",
       "      <td>0.011929</td>\n",
       "    </tr>\n",
       "    <tr>\n",
       "      <th>33</th>\n",
       "      <td>abnormal</td>\n",
       "      <td>drunk_woman</td>\n",
       "      <td>0</td>\n",
       "      <td>side</td>\n",
       "      <td>[0.48161662, 0.48679674, 0.48078574, 0.4946433...</td>\n",
       "      <td>0.430698</td>\n",
       "      <td>0.054385</td>\n",
       "      <td>300</td>\n",
       "      <td>16.315586</td>\n",
       "      <td>-0.086758</td>\n",
       "    </tr>\n",
       "    <tr>\n",
       "      <th>34</th>\n",
       "      <td>abnormal</td>\n",
       "      <td>drunk_woman</td>\n",
       "      <td>1</td>\n",
       "      <td>front</td>\n",
       "      <td>[0.37716442, 0.39848471, 0.40601511, 0.4248671...</td>\n",
       "      <td>0.231061</td>\n",
       "      <td>0.017084</td>\n",
       "      <td>289</td>\n",
       "      <td>4.937235</td>\n",
       "      <td>0.727672</td>\n",
       "    </tr>\n",
       "    <tr>\n",
       "      <th>35</th>\n",
       "      <td>abnormal</td>\n",
       "      <td>ataxic_gait</td>\n",
       "      <td>0</td>\n",
       "      <td>front</td>\n",
       "      <td>[0.23057863, 0.25917214, 0.24955159, 0.2334775...</td>\n",
       "      <td>0.271244</td>\n",
       "      <td>0.028262</td>\n",
       "      <td>155</td>\n",
       "      <td>4.380571</td>\n",
       "      <td>0.046236</td>\n",
       "    </tr>\n",
       "    <tr>\n",
       "      <th>36</th>\n",
       "      <td>normal</td>\n",
       "      <td>DTU4</td>\n",
       "      <td>0</td>\n",
       "      <td>front</td>\n",
       "      <td>[0.12686025, 0.1271504, 0.11975024, 0.18382081...</td>\n",
       "      <td>0.140226</td>\n",
       "      <td>0.021313</td>\n",
       "      <td>73</td>\n",
       "      <td>1.555851</td>\n",
       "      <td>0.212248</td>\n",
       "    </tr>\n",
       "    <tr>\n",
       "      <th>37</th>\n",
       "      <td>normal</td>\n",
       "      <td>jake</td>\n",
       "      <td>0</td>\n",
       "      <td>side</td>\n",
       "      <td>[0.63467017, 0.64744169, 0.58624032, 0.6460879...</td>\n",
       "      <td>0.631215</td>\n",
       "      <td>0.038221</td>\n",
       "      <td>99</td>\n",
       "      <td>3.783835</td>\n",
       "      <td>-4.905007</td>\n",
       "    </tr>\n",
       "    <tr>\n",
       "      <th>39</th>\n",
       "      <td>normal</td>\n",
       "      <td>DTU4</td>\n",
       "      <td>0</td>\n",
       "      <td>side</td>\n",
       "      <td>[0.37035072, 0.66133952, 0.65028137]</td>\n",
       "      <td>0.560657</td>\n",
       "      <td>0.042310</td>\n",
       "      <td>31</td>\n",
       "      <td>1.311621</td>\n",
       "      <td>0.832935</td>\n",
       "    </tr>\n",
       "    <tr>\n",
       "      <th>40</th>\n",
       "      <td>abnormal</td>\n",
       "      <td>limping_4</td>\n",
       "      <td>0</td>\n",
       "      <td>front</td>\n",
       "      <td>[0.24503224, 0.2541941, 0.25317197, 0.25130709...</td>\n",
       "      <td>0.254556</td>\n",
       "      <td>0.032079</td>\n",
       "      <td>159</td>\n",
       "      <td>5.100640</td>\n",
       "      <td>0.328741</td>\n",
       "    </tr>\n",
       "    <tr>\n",
       "      <th>41</th>\n",
       "      <td>abnormal</td>\n",
       "      <td>limping_4</td>\n",
       "      <td>1</td>\n",
       "      <td>front</td>\n",
       "      <td>[0.20761506, 0.20777892, 0.21076471, 0.2145010...</td>\n",
       "      <td>0.201794</td>\n",
       "      <td>0.035148</td>\n",
       "      <td>218</td>\n",
       "      <td>7.662351</td>\n",
       "      <td>0.466650</td>\n",
       "    </tr>\n",
       "    <tr>\n",
       "      <th>42</th>\n",
       "      <td>normal</td>\n",
       "      <td>girl</td>\n",
       "      <td>0</td>\n",
       "      <td>side</td>\n",
       "      <td>[0.64654259, 0.7868343, 0.7828882, 0.76764268,...</td>\n",
       "      <td>0.745854</td>\n",
       "      <td>0.048932</td>\n",
       "      <td>63</td>\n",
       "      <td>3.082729</td>\n",
       "      <td>0.757836</td>\n",
       "    </tr>\n",
       "    <tr>\n",
       "      <th>43</th>\n",
       "      <td>abnormal</td>\n",
       "      <td>cane1</td>\n",
       "      <td>0</td>\n",
       "      <td>front</td>\n",
       "      <td>[0.19148023, 0.19834063, 0.19872919, 0.2133614...</td>\n",
       "      <td>0.191362</td>\n",
       "      <td>0.012296</td>\n",
       "      <td>249</td>\n",
       "      <td>3.061676</td>\n",
       "      <td>0.399191</td>\n",
       "    </tr>\n",
       "    <tr>\n",
       "      <th>44</th>\n",
       "      <td>abnormal</td>\n",
       "      <td>cane1</td>\n",
       "      <td>1</td>\n",
       "      <td>front</td>\n",
       "      <td>[0.15113105, 0.15187384, 0.15149523, 0.1512342...</td>\n",
       "      <td>0.160509</td>\n",
       "      <td>0.022703</td>\n",
       "      <td>262</td>\n",
       "      <td>5.948216</td>\n",
       "      <td>0.764414</td>\n",
       "    </tr>\n",
       "  </tbody>\n",
       "</table>\n",
       "</div>"
      ],
      "text/plain": [
       "   walking_type          video_id  person_id camera_type  \\\n",
       "0      abnormal          limping1          0       front   \n",
       "1      abnormal          limping1          1       front   \n",
       "3        normal              jake          0        side   \n",
       "4        normal               guy          0        side   \n",
       "5        normal          karolina          0       front   \n",
       "6      abnormal  hemiplegic_gait4          0       front   \n",
       "7        normal     athletic_male          0       front   \n",
       "8        normal        london_man          0       front   \n",
       "9      abnormal        limping_11          0       front   \n",
       "10     abnormal        limping_11          1       front   \n",
       "11       normal             gosia          0       front   \n",
       "12     abnormal  hemiplegic_gait3          0       front   \n",
       "13       normal     athletic_male          0        side   \n",
       "14       normal             gosia          0        side   \n",
       "15       normal  angry_girlfriend          0       front   \n",
       "16     abnormal     antalgic_gait          0       front   \n",
       "17     abnormal   hemiplegic_gait          0        side   \n",
       "18       normal             holly          0       front   \n",
       "19       normal         happy_man          0        side   \n",
       "20       normal           london1          0       front   \n",
       "21       normal            niklas          0       front   \n",
       "22     abnormal         limping_2          0       front   \n",
       "23     abnormal         limping_2          1       front   \n",
       "24       normal  angry_girlfriend          0        side   \n",
       "25     abnormal       limping_1_4          0       front   \n",
       "26     abnormal       limping_1_4          1       front   \n",
       "27     abnormal  hemiplegic_gait2          0        side   \n",
       "28       normal              jake          0       front   \n",
       "30       normal             holly          0       front   \n",
       "31       normal              jake          0       front   \n",
       "32       normal           mafalda          0       front   \n",
       "33     abnormal       drunk_woman          0        side   \n",
       "34     abnormal       drunk_woman          1       front   \n",
       "35     abnormal       ataxic_gait          0       front   \n",
       "36       normal              DTU4          0       front   \n",
       "37       normal              jake          0        side   \n",
       "39       normal              DTU4          0        side   \n",
       "40     abnormal         limping_4          0       front   \n",
       "41     abnormal         limping_4          1       front   \n",
       "42       normal              girl          0        side   \n",
       "43     abnormal             cane1          0       front   \n",
       "44     abnormal             cane1          1       front   \n",
       "\n",
       "                                         steps_length  avg_step_length  \\\n",
       "0   [0.14770962, 0.14714764, 0.14685819, 0.1472777...         0.158174   \n",
       "1   [0.2368916, 0.15101376, 0.15024317, 0.15141071...         0.161374   \n",
       "3    [0.55222212, 0.61456363, 0.56650746, 0.60724509]         0.585135   \n",
       "4     [0.43892157, 0.64519218, 0.62339924, 0.5295839]         0.559274   \n",
       "5   [0.12800904, 0.07777523, 0.10063381, 0.0981336...         0.112751   \n",
       "6   [0.278922, 0.31759438, 0.21406927, 0.2110939, ...         0.260650   \n",
       "7   [0.18562702, 0.14532067, 0.16222869, 0.1631245...         0.141665   \n",
       "8   [0.12283621, 0.15875164, 0.11985308, 0.0448014...         0.103900   \n",
       "9   [0.14770962, 0.14714764, 0.14685819, 0.1472777...         0.158174   \n",
       "10  [0.2368916, 0.15101376, 0.15024317, 0.15141071...         0.161374   \n",
       "11  [0.16144565, 0.15040568, 0.17102993, 0.1755234...         0.141557   \n",
       "12  [0.22459552, 0.22149166, 0.22350705, 0.2773867...         0.246922   \n",
       "13  [0.5201098, 0.76547247, 0.75014812, 0.58124989...         0.689091   \n",
       "14  [0.33645812, 0.7675721, 0.79512393, 0.49717681...         0.604786   \n",
       "15  [0.16371597, 0.13821216, 0.12211737, 0.1381459...         0.136156   \n",
       "16  [0.42464031, 0.47712233, 0.2474841, 0.48747359...         0.369578   \n",
       "17  [0.36718719, 0.36383373, 0.29843676, 0.3460073...         0.341517   \n",
       "18  [0.18325118, 0.17459586, 0.15374915, 0.1712461...         0.169374   \n",
       "19  [0.68499157, 0.67263043, 0.68393019, 0.7022395...         0.728754   \n",
       "20  [0.05738547, 0.06029688, 0.04557085, 0.1091519...         0.122007   \n",
       "21  [0.15079417, 0.16269239, 0.1718813, 0.14362042...         0.156896   \n",
       "22  [0.15471047, 0.15403128, 0.15470344, 0.1547170...         0.158556   \n",
       "23  [0.20474809, 0.20832536, 0.21283387, 0.2118405...         0.210052   \n",
       "24  [0.76687789, 0.77130702, 0.83048975, 0.8233853...         0.812373   \n",
       "25  [0.24503224, 0.2541941, 0.25317197, 0.25130709...         0.254556   \n",
       "26  [0.20761506, 0.20777892, 0.21076471, 0.2145010...         0.201794   \n",
       "27  [0.38140978, 0.27030893, 0.46299958, 0.4624774...         0.366635   \n",
       "28  [0.15500442, 0.16854095, 0.14415107, 0.1518458...         0.152847   \n",
       "30  [0.16287301, 0.15875547, 0.15563468, 0.1515444...         0.153072   \n",
       "31  [0.26480444, 0.24100303, 0.2076399, 0.24531075...         0.247185   \n",
       "32  [0.1277186, 0.13487859, 0.12777461, 0.12090605...         0.127498   \n",
       "33  [0.48161662, 0.48679674, 0.48078574, 0.4946433...         0.430698   \n",
       "34  [0.37716442, 0.39848471, 0.40601511, 0.4248671...         0.231061   \n",
       "35  [0.23057863, 0.25917214, 0.24955159, 0.2334775...         0.271244   \n",
       "36  [0.12686025, 0.1271504, 0.11975024, 0.18382081...         0.140226   \n",
       "37  [0.63467017, 0.64744169, 0.58624032, 0.6460879...         0.631215   \n",
       "39               [0.37035072, 0.66133952, 0.65028137]         0.560657   \n",
       "40  [0.24503224, 0.2541941, 0.25317197, 0.25130709...         0.254556   \n",
       "41  [0.20761506, 0.20777892, 0.21076471, 0.2145010...         0.201794   \n",
       "42  [0.64654259, 0.7868343, 0.7828882, 0.76764268,...         0.745854   \n",
       "43  [0.19148023, 0.19834063, 0.19872919, 0.2133614...         0.191362   \n",
       "44  [0.15113105, 0.15187384, 0.15149523, 0.1512342...         0.160509   \n",
       "\n",
       "       speed  time   distance  asymmetry  \n",
       "0   0.016143   324   5.230202   0.360017  \n",
       "1   0.025900   346   8.961452   0.802118  \n",
       "3   0.030833    58   1.788316   0.856048  \n",
       "4   0.035964    50   1.798175   0.714935  \n",
       "5   0.014958   700  10.470564  -0.023648  \n",
       "6   0.023243   459  10.668369  -0.628305  \n",
       "7   0.021790    76   1.656012   0.020580  \n",
       "8   0.004953   164   0.812266   0.415574  \n",
       "9   0.016143   324   5.230202   0.360017  \n",
       "10  0.025900   346   8.961452   0.802118  \n",
       "11  0.025670   104   2.669689  -0.071390  \n",
       "12  0.019853   225   4.466928   0.156509  \n",
       "13  0.088613   103   9.127168   0.701541  \n",
       "14  0.078647    88   6.920980   0.818917  \n",
       "15  0.023369   127   2.967875   0.137986  \n",
       "16  0.058376   151   8.814812  -2.276174  \n",
       "17  0.012691   294   3.731018   0.758391  \n",
       "18  0.018351   110   2.018617  -0.026607  \n",
       "19  0.045827   319  14.618850   0.715613  \n",
       "20  0.011974   199   2.382758   0.592843  \n",
       "21  0.020460   146   2.987126  -0.064170  \n",
       "22  0.041831   273  11.419850   0.780874  \n",
       "23  0.022129   285   6.306869   0.428595  \n",
       "24  0.069231   118   8.169222   0.666559  \n",
       "25  0.032079   159   5.100640   0.328741  \n",
       "26  0.035148   218   7.662351   0.466650  \n",
       "27  0.022876   384   8.784454  -1.040597  \n",
       "28  0.026344   232   6.111741  -0.096411  \n",
       "30  0.025434   126   3.204715  -0.021443  \n",
       "31  0.015044   196   2.948594  -0.880453  \n",
       "32  0.023280   115   2.677227   0.011929  \n",
       "33  0.054385   300  16.315586  -0.086758  \n",
       "34  0.017084   289   4.937235   0.727672  \n",
       "35  0.028262   155   4.380571   0.046236  \n",
       "36  0.021313    73   1.555851   0.212248  \n",
       "37  0.038221    99   3.783835  -4.905007  \n",
       "39  0.042310    31   1.311621   0.832935  \n",
       "40  0.032079   159   5.100640   0.328741  \n",
       "41  0.035148   218   7.662351   0.466650  \n",
       "42  0.048932    63   3.082729   0.757836  \n",
       "43  0.012296   249   3.061676   0.399191  \n",
       "44  0.022703   262   5.948216   0.764414  "
      ]
     },
     "execution_count": 31,
     "metadata": {},
     "output_type": "execute_result"
    }
   ],
   "source": [
    "biometrics_df"
   ]
  },
  {
   "cell_type": "code",
   "execution_count": 33,
   "metadata": {},
   "outputs": [
    {
     "data": {
      "application/vnd.plotly.v1+json": {
       "config": {
        "plotlyServerURL": "https://plot.ly"
       },
       "data": [
        {
         "hovertemplate": "camera_type=front<br>walking_type=abnormal<br>avg_step_length=%{x}<br>speed=%{y}<br>asymmetry=%{z}<extra></extra>",
         "legendgroup": "front, abnormal",
         "marker": {
          "color": "#636efa",
          "symbol": "circle"
         },
         "mode": "markers",
         "name": "front, abnormal",
         "scene": "scene",
         "showlegend": true,
         "type": "scatter3d",
         "x": [
          0.1581738790606751,
          0.1613744451223235,
          0.2606497818515414,
          0.1581738790606751,
          0.1613744451223235,
          0.2469222686792674,
          0.3695781041681766,
          0.1585556267161075,
          0.2100521518338111,
          0.2545557983574413,
          0.2017940015364916,
          0.2310608581680318,
          0.2712440902695936,
          0.2545557983574413,
          0.2017940015364916,
          0.1913621131988132,
          0.1605091415296652
         ],
         "y": [
          0.0161425995835919,
          0.0259001496371764,
          0.0232426336355718,
          0.0161425995835919,
          0.0259001496371764,
          0.0198530115021599,
          0.058376240340487,
          0.0418309534016328,
          0.0221293635535658,
          0.0320794938495324,
          0.0351483990703154,
          0.0170838592193737,
          0.0282617477640028,
          0.0320794938495324,
          0.0351483990703154,
          0.0122958863356027,
          0.0227031157679059
         ],
         "z": [
          0.3600174558098249,
          0.8021180219149912,
          -0.6283054108899946,
          0.3600174558098249,
          0.8021180219149912,
          0.1565085327962631,
          -2.276173645912614,
          0.7808736559431453,
          0.4285947581606786,
          0.3287410749140597,
          0.466649589393144,
          0.7276722559018958,
          0.0462364426225714,
          0.3287410749140597,
          0.466649589393144,
          0.3991907264491542,
          0.7644144298574872
         ]
        },
        {
         "hovertemplate": "camera_type=front<br>walking_type=normal<br>avg_step_length=%{x}<br>speed=%{y}<br>asymmetry=%{z}<extra></extra>",
         "legendgroup": "front, normal",
         "marker": {
          "color": "#636efa",
          "symbol": "diamond"
         },
         "mode": "markers",
         "name": "front, normal",
         "scene": "scene",
         "showlegend": true,
         "type": "scatter3d",
         "x": [
          0.1127507787673397,
          0.1416645646095276,
          0.1039002606024344,
          0.141556710191071,
          0.1361561404622119,
          0.1693744547665119,
          0.1220071780495345,
          0.156895984429866,
          0.152847454497,
          0.1530721639706329,
          0.2471845224499702,
          0.1274975241923874,
          0.1402259590104222
         ],
         "y": [
          0.0149579488113522,
          0.0217896357766891,
          0.0049528422788148,
          0.0256700822008916,
          0.0233690965715355,
          0.0183510612019083,
          0.0119736587638082,
          0.0204597638460667,
          0.0263437121496375,
          0.0254342427979859,
          0.0150438487453728,
          0.0232802342137564,
          0.0213130308850987
         ],
         "z": [
          -0.0236484004555619,
          0.0205803414211648,
          0.4155740355683593,
          -0.0713902192667588,
          0.137985525917994,
          -0.0266074607333293,
          0.5928430668021023,
          -0.0641702165055271,
          -0.0964106906316355,
          -0.0214431704945419,
          -0.8804528397433973,
          0.011928926571517,
          0.2122479795843683
         ]
        },
        {
         "hovertemplate": "camera_type=side<br>walking_type=abnormal<br>avg_step_length=%{x}<br>speed=%{y}<br>asymmetry=%{z}<extra></extra>",
         "legendgroup": "side, abnormal",
         "marker": {
          "color": "#EF553B",
          "symbol": "circle"
         },
         "mode": "markers",
         "name": "side, abnormal",
         "scene": "scene",
         "showlegend": true,
         "type": "scatter3d",
         "x": [
          0.3415171048448731,
          0.3666345622017979,
          0.4306975070100564
         ],
         "y": [
          0.0126905376566764,
          0.0228761829979096,
          0.054385287190477
         ],
         "z": [
          0.7583909266425822,
          -1.0405973009507172,
          -0.0867584052464414
         ]
        },
        {
         "hovertemplate": "camera_type=side<br>walking_type=normal<br>avg_step_length=%{x}<br>speed=%{y}<br>asymmetry=%{z}<extra></extra>",
         "legendgroup": "side, normal",
         "marker": {
          "color": "#EF553B",
          "symbol": "diamond"
         },
         "mode": "markers",
         "name": "side, normal",
         "scene": "scene",
         "showlegend": true,
         "type": "scatter3d",
         "x": [
          0.5851345732808113,
          0.559274222701788,
          0.689091260944094,
          0.6047864829500517,
          0.7287543586322239,
          0.8123727576299147,
          0.6312150912625449,
          0.5606572031974792,
          0.7458543390035629
         ],
         "y": [
          0.0308330375058897,
          0.0359635064005851,
          0.0886132801042019,
          0.0786474963480776,
          0.0458271158713158,
          0.0692306986804735,
          0.0382205603098628,
          0.0423103513256196,
          0.0489322079552544
         ],
         "z": [
          0.8560483591266628,
          0.7149348105372926,
          0.7015410400411273,
          0.8189168422628124,
          0.7156133237690374,
          0.6665593687013505,
          -4.905006940725282,
          0.8329346208841606,
          0.7578359175815657
         ]
        }
       ],
       "layout": {
        "height": 1000,
        "legend": {
         "title": {
          "text": "camera_type, walking_type"
         },
         "tracegroupgap": 0
        },
        "margin": {
         "t": 60
        },
        "scene": {
         "domain": {
          "x": [
           0,
           1
          ],
          "y": [
           0,
           1
          ]
         },
         "xaxis": {
          "title": {
           "text": "avg_step_length"
          }
         },
         "yaxis": {
          "title": {
           "text": "speed"
          }
         },
         "zaxis": {
          "title": {
           "text": "asymmetry"
          }
         }
        },
        "template": {
         "data": {
          "bar": [
           {
            "error_x": {
             "color": "#2a3f5f"
            },
            "error_y": {
             "color": "#2a3f5f"
            },
            "marker": {
             "line": {
              "color": "#E5ECF6",
              "width": 0.5
             },
             "pattern": {
              "fillmode": "overlay",
              "size": 10,
              "solidity": 0.2
             }
            },
            "type": "bar"
           }
          ],
          "barpolar": [
           {
            "marker": {
             "line": {
              "color": "#E5ECF6",
              "width": 0.5
             },
             "pattern": {
              "fillmode": "overlay",
              "size": 10,
              "solidity": 0.2
             }
            },
            "type": "barpolar"
           }
          ],
          "carpet": [
           {
            "aaxis": {
             "endlinecolor": "#2a3f5f",
             "gridcolor": "white",
             "linecolor": "white",
             "minorgridcolor": "white",
             "startlinecolor": "#2a3f5f"
            },
            "baxis": {
             "endlinecolor": "#2a3f5f",
             "gridcolor": "white",
             "linecolor": "white",
             "minorgridcolor": "white",
             "startlinecolor": "#2a3f5f"
            },
            "type": "carpet"
           }
          ],
          "choropleth": [
           {
            "colorbar": {
             "outlinewidth": 0,
             "ticks": ""
            },
            "type": "choropleth"
           }
          ],
          "contour": [
           {
            "colorbar": {
             "outlinewidth": 0,
             "ticks": ""
            },
            "colorscale": [
             [
              0,
              "#0d0887"
             ],
             [
              0.1111111111111111,
              "#46039f"
             ],
             [
              0.2222222222222222,
              "#7201a8"
             ],
             [
              0.3333333333333333,
              "#9c179e"
             ],
             [
              0.4444444444444444,
              "#bd3786"
             ],
             [
              0.5555555555555556,
              "#d8576b"
             ],
             [
              0.6666666666666666,
              "#ed7953"
             ],
             [
              0.7777777777777778,
              "#fb9f3a"
             ],
             [
              0.8888888888888888,
              "#fdca26"
             ],
             [
              1,
              "#f0f921"
             ]
            ],
            "type": "contour"
           }
          ],
          "contourcarpet": [
           {
            "colorbar": {
             "outlinewidth": 0,
             "ticks": ""
            },
            "type": "contourcarpet"
           }
          ],
          "heatmap": [
           {
            "colorbar": {
             "outlinewidth": 0,
             "ticks": ""
            },
            "colorscale": [
             [
              0,
              "#0d0887"
             ],
             [
              0.1111111111111111,
              "#46039f"
             ],
             [
              0.2222222222222222,
              "#7201a8"
             ],
             [
              0.3333333333333333,
              "#9c179e"
             ],
             [
              0.4444444444444444,
              "#bd3786"
             ],
             [
              0.5555555555555556,
              "#d8576b"
             ],
             [
              0.6666666666666666,
              "#ed7953"
             ],
             [
              0.7777777777777778,
              "#fb9f3a"
             ],
             [
              0.8888888888888888,
              "#fdca26"
             ],
             [
              1,
              "#f0f921"
             ]
            ],
            "type": "heatmap"
           }
          ],
          "heatmapgl": [
           {
            "colorbar": {
             "outlinewidth": 0,
             "ticks": ""
            },
            "colorscale": [
             [
              0,
              "#0d0887"
             ],
             [
              0.1111111111111111,
              "#46039f"
             ],
             [
              0.2222222222222222,
              "#7201a8"
             ],
             [
              0.3333333333333333,
              "#9c179e"
             ],
             [
              0.4444444444444444,
              "#bd3786"
             ],
             [
              0.5555555555555556,
              "#d8576b"
             ],
             [
              0.6666666666666666,
              "#ed7953"
             ],
             [
              0.7777777777777778,
              "#fb9f3a"
             ],
             [
              0.8888888888888888,
              "#fdca26"
             ],
             [
              1,
              "#f0f921"
             ]
            ],
            "type": "heatmapgl"
           }
          ],
          "histogram": [
           {
            "marker": {
             "pattern": {
              "fillmode": "overlay",
              "size": 10,
              "solidity": 0.2
             }
            },
            "type": "histogram"
           }
          ],
          "histogram2d": [
           {
            "colorbar": {
             "outlinewidth": 0,
             "ticks": ""
            },
            "colorscale": [
             [
              0,
              "#0d0887"
             ],
             [
              0.1111111111111111,
              "#46039f"
             ],
             [
              0.2222222222222222,
              "#7201a8"
             ],
             [
              0.3333333333333333,
              "#9c179e"
             ],
             [
              0.4444444444444444,
              "#bd3786"
             ],
             [
              0.5555555555555556,
              "#d8576b"
             ],
             [
              0.6666666666666666,
              "#ed7953"
             ],
             [
              0.7777777777777778,
              "#fb9f3a"
             ],
             [
              0.8888888888888888,
              "#fdca26"
             ],
             [
              1,
              "#f0f921"
             ]
            ],
            "type": "histogram2d"
           }
          ],
          "histogram2dcontour": [
           {
            "colorbar": {
             "outlinewidth": 0,
             "ticks": ""
            },
            "colorscale": [
             [
              0,
              "#0d0887"
             ],
             [
              0.1111111111111111,
              "#46039f"
             ],
             [
              0.2222222222222222,
              "#7201a8"
             ],
             [
              0.3333333333333333,
              "#9c179e"
             ],
             [
              0.4444444444444444,
              "#bd3786"
             ],
             [
              0.5555555555555556,
              "#d8576b"
             ],
             [
              0.6666666666666666,
              "#ed7953"
             ],
             [
              0.7777777777777778,
              "#fb9f3a"
             ],
             [
              0.8888888888888888,
              "#fdca26"
             ],
             [
              1,
              "#f0f921"
             ]
            ],
            "type": "histogram2dcontour"
           }
          ],
          "mesh3d": [
           {
            "colorbar": {
             "outlinewidth": 0,
             "ticks": ""
            },
            "type": "mesh3d"
           }
          ],
          "parcoords": [
           {
            "line": {
             "colorbar": {
              "outlinewidth": 0,
              "ticks": ""
             }
            },
            "type": "parcoords"
           }
          ],
          "pie": [
           {
            "automargin": true,
            "type": "pie"
           }
          ],
          "scatter": [
           {
            "fillpattern": {
             "fillmode": "overlay",
             "size": 10,
             "solidity": 0.2
            },
            "type": "scatter"
           }
          ],
          "scatter3d": [
           {
            "line": {
             "colorbar": {
              "outlinewidth": 0,
              "ticks": ""
             }
            },
            "marker": {
             "colorbar": {
              "outlinewidth": 0,
              "ticks": ""
             }
            },
            "type": "scatter3d"
           }
          ],
          "scattercarpet": [
           {
            "marker": {
             "colorbar": {
              "outlinewidth": 0,
              "ticks": ""
             }
            },
            "type": "scattercarpet"
           }
          ],
          "scattergeo": [
           {
            "marker": {
             "colorbar": {
              "outlinewidth": 0,
              "ticks": ""
             }
            },
            "type": "scattergeo"
           }
          ],
          "scattergl": [
           {
            "marker": {
             "colorbar": {
              "outlinewidth": 0,
              "ticks": ""
             }
            },
            "type": "scattergl"
           }
          ],
          "scattermapbox": [
           {
            "marker": {
             "colorbar": {
              "outlinewidth": 0,
              "ticks": ""
             }
            },
            "type": "scattermapbox"
           }
          ],
          "scatterpolar": [
           {
            "marker": {
             "colorbar": {
              "outlinewidth": 0,
              "ticks": ""
             }
            },
            "type": "scatterpolar"
           }
          ],
          "scatterpolargl": [
           {
            "marker": {
             "colorbar": {
              "outlinewidth": 0,
              "ticks": ""
             }
            },
            "type": "scatterpolargl"
           }
          ],
          "scatterternary": [
           {
            "marker": {
             "colorbar": {
              "outlinewidth": 0,
              "ticks": ""
             }
            },
            "type": "scatterternary"
           }
          ],
          "surface": [
           {
            "colorbar": {
             "outlinewidth": 0,
             "ticks": ""
            },
            "colorscale": [
             [
              0,
              "#0d0887"
             ],
             [
              0.1111111111111111,
              "#46039f"
             ],
             [
              0.2222222222222222,
              "#7201a8"
             ],
             [
              0.3333333333333333,
              "#9c179e"
             ],
             [
              0.4444444444444444,
              "#bd3786"
             ],
             [
              0.5555555555555556,
              "#d8576b"
             ],
             [
              0.6666666666666666,
              "#ed7953"
             ],
             [
              0.7777777777777778,
              "#fb9f3a"
             ],
             [
              0.8888888888888888,
              "#fdca26"
             ],
             [
              1,
              "#f0f921"
             ]
            ],
            "type": "surface"
           }
          ],
          "table": [
           {
            "cells": {
             "fill": {
              "color": "#EBF0F8"
             },
             "line": {
              "color": "white"
             }
            },
            "header": {
             "fill": {
              "color": "#C8D4E3"
             },
             "line": {
              "color": "white"
             }
            },
            "type": "table"
           }
          ]
         },
         "layout": {
          "annotationdefaults": {
           "arrowcolor": "#2a3f5f",
           "arrowhead": 0,
           "arrowwidth": 1
          },
          "autotypenumbers": "strict",
          "coloraxis": {
           "colorbar": {
            "outlinewidth": 0,
            "ticks": ""
           }
          },
          "colorscale": {
           "diverging": [
            [
             0,
             "#8e0152"
            ],
            [
             0.1,
             "#c51b7d"
            ],
            [
             0.2,
             "#de77ae"
            ],
            [
             0.3,
             "#f1b6da"
            ],
            [
             0.4,
             "#fde0ef"
            ],
            [
             0.5,
             "#f7f7f7"
            ],
            [
             0.6,
             "#e6f5d0"
            ],
            [
             0.7,
             "#b8e186"
            ],
            [
             0.8,
             "#7fbc41"
            ],
            [
             0.9,
             "#4d9221"
            ],
            [
             1,
             "#276419"
            ]
           ],
           "sequential": [
            [
             0,
             "#0d0887"
            ],
            [
             0.1111111111111111,
             "#46039f"
            ],
            [
             0.2222222222222222,
             "#7201a8"
            ],
            [
             0.3333333333333333,
             "#9c179e"
            ],
            [
             0.4444444444444444,
             "#bd3786"
            ],
            [
             0.5555555555555556,
             "#d8576b"
            ],
            [
             0.6666666666666666,
             "#ed7953"
            ],
            [
             0.7777777777777778,
             "#fb9f3a"
            ],
            [
             0.8888888888888888,
             "#fdca26"
            ],
            [
             1,
             "#f0f921"
            ]
           ],
           "sequentialminus": [
            [
             0,
             "#0d0887"
            ],
            [
             0.1111111111111111,
             "#46039f"
            ],
            [
             0.2222222222222222,
             "#7201a8"
            ],
            [
             0.3333333333333333,
             "#9c179e"
            ],
            [
             0.4444444444444444,
             "#bd3786"
            ],
            [
             0.5555555555555556,
             "#d8576b"
            ],
            [
             0.6666666666666666,
             "#ed7953"
            ],
            [
             0.7777777777777778,
             "#fb9f3a"
            ],
            [
             0.8888888888888888,
             "#fdca26"
            ],
            [
             1,
             "#f0f921"
            ]
           ]
          },
          "colorway": [
           "#636efa",
           "#EF553B",
           "#00cc96",
           "#ab63fa",
           "#FFA15A",
           "#19d3f3",
           "#FF6692",
           "#B6E880",
           "#FF97FF",
           "#FECB52"
          ],
          "font": {
           "color": "#2a3f5f"
          },
          "geo": {
           "bgcolor": "white",
           "lakecolor": "white",
           "landcolor": "#E5ECF6",
           "showlakes": true,
           "showland": true,
           "subunitcolor": "white"
          },
          "hoverlabel": {
           "align": "left"
          },
          "hovermode": "closest",
          "mapbox": {
           "style": "light"
          },
          "paper_bgcolor": "white",
          "plot_bgcolor": "#E5ECF6",
          "polar": {
           "angularaxis": {
            "gridcolor": "white",
            "linecolor": "white",
            "ticks": ""
           },
           "bgcolor": "#E5ECF6",
           "radialaxis": {
            "gridcolor": "white",
            "linecolor": "white",
            "ticks": ""
           }
          },
          "scene": {
           "xaxis": {
            "backgroundcolor": "#E5ECF6",
            "gridcolor": "white",
            "gridwidth": 2,
            "linecolor": "white",
            "showbackground": true,
            "ticks": "",
            "zerolinecolor": "white"
           },
           "yaxis": {
            "backgroundcolor": "#E5ECF6",
            "gridcolor": "white",
            "gridwidth": 2,
            "linecolor": "white",
            "showbackground": true,
            "ticks": "",
            "zerolinecolor": "white"
           },
           "zaxis": {
            "backgroundcolor": "#E5ECF6",
            "gridcolor": "white",
            "gridwidth": 2,
            "linecolor": "white",
            "showbackground": true,
            "ticks": "",
            "zerolinecolor": "white"
           }
          },
          "shapedefaults": {
           "line": {
            "color": "#2a3f5f"
           }
          },
          "ternary": {
           "aaxis": {
            "gridcolor": "white",
            "linecolor": "white",
            "ticks": ""
           },
           "baxis": {
            "gridcolor": "white",
            "linecolor": "white",
            "ticks": ""
           },
           "bgcolor": "#E5ECF6",
           "caxis": {
            "gridcolor": "white",
            "linecolor": "white",
            "ticks": ""
           }
          },
          "title": {
           "x": 0.05
          },
          "xaxis": {
           "automargin": true,
           "gridcolor": "white",
           "linecolor": "white",
           "ticks": "",
           "title": {
            "standoff": 15
           },
           "zerolinecolor": "white",
           "zerolinewidth": 2
          },
          "yaxis": {
           "automargin": true,
           "gridcolor": "white",
           "linecolor": "white",
           "ticks": "",
           "title": {
            "standoff": 15
           },
           "zerolinecolor": "white",
           "zerolinewidth": 2
          }
         }
        },
        "width": 1000
       }
      }
     },
     "metadata": {},
     "output_type": "display_data"
    }
   ],
   "source": [
    "fig = px.scatter_3d(biometrics_df, x='avg_step_length', y='speed', z='asymmetry', color='camera_type', symbol='walking_type', width=1000, height=1000)\n",
    "fig.show()"
   ]
  },
  {
   "cell_type": "code",
   "execution_count": null,
   "metadata": {},
   "outputs": [],
   "source": []
  }
 ],
 "metadata": {
  "kernelspec": {
   "display_name": "course02502",
   "language": "python",
   "name": "python3"
  },
  "language_info": {
   "codemirror_mode": {
    "name": "ipython",
    "version": 3
   },
   "file_extension": ".py",
   "mimetype": "text/x-python",
   "name": "python",
   "nbconvert_exporter": "python",
   "pygments_lexer": "ipython3",
   "version": "3.11.5"
  }
 },
 "nbformat": 4,
 "nbformat_minor": 2
}
